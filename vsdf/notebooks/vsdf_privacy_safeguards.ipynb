{
 "cells": [
  {
   "cell_type": "markdown",
   "id": "5a073c3e",
   "metadata": {},
   "source": [
    "# VSDF Privacy Safeguards\n",
    "\n",
    "Evaluate how the differential privacy budget influences fidelity and privacy risk when generating synthetic data."
   ]
  },
  {
   "cell_type": "code",
   "execution_count": null,
   "id": "ce2c5967",
   "metadata": {},
   "outputs": [],
   "source": [
    "import pandas as pd\n",
    "from vsdf import SchemaLearner, ConstraintSpecification, ConstraintCompiler, ConstraintDrivenSampler, ConstraintVerifier"
   ]
  },
  {
   "cell_type": "code",
   "execution_count": null,
   "id": "18300064",
   "metadata": {},
   "outputs": [],
   "source": [
    "reference = pd.DataFrame({\n",
    "    'age': [25, 32, 40, 28, 36, 52, 47, 30, 45, 38],\n",
    "    'income': [50000, 62000, 58000, 52000, 61000, 75000, 68000, 54000, 72000, 59000],\n",
    "    'segment': ['A', 'B', 'A', 'A', 'B', 'B', 'A', 'B', 'A', 'B'],\n",
    "    'city': ['Denver', 'Denver', 'Boulder', 'Denver', 'Boulder', 'Denver', 'Boulder', 'Denver', 'Boulder', 'Denver'],\n",
    "})\n",
    "schema = SchemaLearner().learn(reference)\n",
    "compiler = ConstraintCompiler(schema)"
   ]
  },
  {
   "cell_type": "code",
   "execution_count": null,
   "id": "5121232b",
   "metadata": {},
   "outputs": [],
   "source": [
    "results = []\n",
    "for epsilon in [2.0, 5.0, 8.0, 12.0]:\n",
    "    spec = ConstraintSpecification(\n",
    "        marginal_columns=['segment', 'city'],\n",
    "        correlation_pairs=[('age', 'income')],\n",
    "        marginal_tolerance=0.1,\n",
    "        correlation_tolerance=0.1,\n",
    "        denial_predicates=['age < 21 and income > 60000'],\n",
    "        denial_tolerance=0.0,\n",
    "        dp_epsilon=epsilon,\n",
    "    )\n",
    "    constraints = compiler.learn(reference, spec)\n",
    "    sampler = ConstraintDrivenSampler(schema, constraints, random_state=123)\n",
    "    synthetic = sampler.sample(200)\n",
    "    report = ConstraintVerifier(constraints, privacy_threshold=0.1).verify(synthetic, reference)\n",
    "    fidelity_gap = max(report.marginal_distances.values() or [0.0])\n",
    "    results.append({\n",
    "        'epsilon': epsilon,\n",
    "        'privacy_risk': report.privacy_risk,\n",
    "        'max_marginal_distance': fidelity_gap,\n",
    "        'correlation_delta': report.correlation_deltas.get(('age', 'income'), 0.0),\n",
    "    })\n",
    "summary = pd.DataFrame(results)\n",
    "summary"
   ]
  },
  {
   "cell_type": "markdown",
   "id": "707e4c52",
   "metadata": {},
   "source": [
    "Lower epsilon values inject more noise, reducing privacy risk at the cost of slightly larger fidelity gaps. Tune the privacy threshold and tolerances to meet policy requirements."
   ]
  }
 ],
 "metadata": {},
 "nbformat": 4,
 "nbformat_minor": 5
}
