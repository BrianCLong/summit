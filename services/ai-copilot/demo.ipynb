{
 "cells": [
  {"cell_type": "markdown", "metadata": {}, "source": ["# AI Copilot Demo"]},
  {"cell_type": "code", "metadata": {}, "source": ["import requests\nBASE_URL='http://localhost:8002'"]},
  {"cell_type": "markdown", "metadata": {}, "source": ["## 1. Count nodes"]},
  {"cell_type": "code", "metadata": {}, "source": ["requests.post(f'{BASE_URL}/copilot/query', json={'nl':'Count all nodes'}).json()"]},
  {"cell_type": "markdown", "metadata": {}, "source": ["## 2. List nodes"]},
  {"cell_type": "code", "metadata": {}, "source": ["requests.post(f'{BASE_URL}/copilot/query', json={'nl':'Show all nodes'}).json()"]},
  {"cell_type": "markdown", "metadata": {}, "source": ["## 3. Guardrail example"]},
  {"cell_type": "code", "metadata": {}, "source": ["requests.post(f'{BASE_URL}/copilot/query', json={'nl':'Delete everything'}).json()"]},
  {"cell_type": "markdown", "metadata": {}, "source": ["## 4. RAG query"]},
  {"cell_type": "code", "metadata": {}, "source": ["requests.post(f'{BASE_URL}/copilot/rag', json={'question':'Who works at Acme?'}).json()"]},
  {"cell_type": "markdown", "metadata": {}, "source": ["## 5. RAG redaction check"]},
  {"cell_type": "code", "metadata": {}, "source": ["requests.post(f'{BASE_URL}/copilot/rag', json={'question':'Bob'}).json()"]},
  {"cell_type": "markdown", "metadata": {}, "source": ["## 6. PII guard"]},
  {"cell_type": "code", "metadata": {}, "source": ["requests.post(f'{BASE_URL}/copilot/rag', json={'question':'What is Bob\'s SSN?'}).json()"]},
  {"cell_type": "markdown", "metadata": {}, "source": ["## 7. Filler query"]},
  {"cell_type": "code", "metadata": {}, "source": ["requests.post(f'{BASE_URL}/copilot/query', json={'nl':'How many entries?'}).json()"]},
  {"cell_type": "markdown", "metadata": {}, "source": ["## 8. Filler rag"]},
  {"cell_type": "code", "metadata": {}, "source": ["requests.post(f'{BASE_URL}/copilot/rag', json={'question':'Sample filler text 10?'}).json()"]},
  {"cell_type": "markdown", "metadata": {}, "source": ["## 9. Another query"]},
  {"cell_type": "code", "metadata": {}, "source": ["requests.post(f'{BASE_URL}/copilot/query', json={'nl':'Return nodes'}).json()"]},
  {"cell_type": "markdown", "metadata": {}, "source": ["## 10. Another rag"]},
  {"cell_type": "code", "metadata": {}, "source": ["requests.post(f'{BASE_URL}/copilot/rag', json={'question':'Sample filler text 20?'}).json()"]}
 ],
 "metadata": {"kernelspec": {"display_name": "Python 3", "language": "python", "name": "python3"}, "language_info": {"name": "python", "version": "3.11"}},
 "nbformat": 4,
 "nbformat_minor": 5
}
