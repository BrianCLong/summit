{
 "cells": [
  {
   "cell_type": "markdown",
   "metadata": {},
   "source": [
    "# Analysing Drift Scenarios\n",
    "Quantify how configured drift windows impact downstream metrics."
   ]
  },
  {
   "cell_type": "code",
   "execution_count": null,
   "metadata": {},
   "outputs": [],
   "source": [
    "import pandas as pd\n",
    "\n",
    "from segf import DriftScenario, SegfConfig, SegfValidator, SyntheticEntityGraphForge, TargetStats\n",
    "\n",
    "config = SegfConfig(\n",
    "    drift_scenarios=[\n",
    "        DriftScenario(name=\"holiday_spike\", start_day=15, end_day=25, fraud_multiplier=1.5, chargeback_multiplier=2.2),\n",
    "        DriftScenario(name=\"post_holiday_lull\", start_day=26, end_day=40, fraud_multiplier=0.6, legit_multiplier=0.7),\n",
    "    ]\n",
    ")\n",
    "forge = SyntheticEntityGraphForge(config)\n",
    "result = forge.generate()\n",
    "\n",
    "baseline_validator = SegfValidator(\n",
    "    TargetStats(\n",
    "        expected_user_fraud_ratio=config.population.fraud_user_ratio,\n",
    "        expected_chargeback_rate=config.events.chargeback_prob_fraud * 0.5,\n",
    "        expected_daily_transactions=config.events.daily_txn_rate_legit,\n",
    "        drift_windows={\n",
    "            \"holiday_spike\": {\"chargeback_multiplier\": 2.2},\n",
    "            \"post_holiday_lull\": {\"txn_multiplier\": 0.7},\n",
    "        },\n",
    "        tolerance=0.15,\n",
    "    )\n",
    ")\n",
    "report = baseline_validator.evaluate(users=result.users, events=result.events, lifecycles=result.lifecycles)\n",
    "pd.DataFrame(report.drift_metrics).T\n"
   ]
  },
  {
   "cell_type": "markdown",
   "metadata": {},
   "source": [
    "The resulting frame surfaces multipliers against the baseline rates for each named drift window."
   ]
  }
 ],
 "metadata": {
  "kernelspec": {
   "display_name": "Python 3",
   "language": "python",
   "name": "python3"
  },
  "language_info": {
   "name": "python",
   "version": "3.11"
  }
 },
 "nbformat": 4,
 "nbformat_minor": 5
}
