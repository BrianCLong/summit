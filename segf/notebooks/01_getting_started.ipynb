{
 "cells": [
  {
   "cell_type": "markdown",
   "metadata": {},
   "source": [
    "# SEGF: Getting Started\n",
    "Generate your first synthetic entity graph and inspect the outputs."
   ]
  },
  {
   "cell_type": "code",
   "execution_count": null,
   "metadata": {},
   "outputs": [],
   "source": [
    "from pathlib import Path\n",
    "\n",
    "from segf import DriftScenario, SegfConfig, SegfValidator, SyntheticEntityGraphForge, TargetStats\n",
    "\n",
    "config = SegfConfig(\n",
    "    drift_scenarios=[\n",
    "        DriftScenario(\n",
    "            name=\"promo_push\", start_day=12, end_day=22, fraud_multiplier=1.25, chargeback_multiplier=1.8\n",
    "        )\n",
    "    ]\n",
    ")\n",
    "forge = SyntheticEntityGraphForge(config)\n",
    "result = forge.generate()\n",
    "result.write(Path(\"./segf-sample-output\"))\n",
    "\n",
    "validator = SegfValidator(\n",
    "    TargetStats(\n",
    "        expected_user_fraud_ratio=config.population.fraud_user_ratio,\n",
    "        expected_chargeback_rate=config.events.chargeback_prob_fraud * 0.5,\n",
    "        expected_daily_transactions=config.events.daily_txn_rate_legit,\n",
    "        drift_windows={\"promo_push\": {\"chargeback_multiplier\": 1.8}},\n",
    "    )\n",
    ")\n",
    "report = validator.evaluate(users=result.users, events=result.events, lifecycles=result.lifecycles)\n",
    "report"
   ]
  },
  {
   "cell_type": "markdown",
   "metadata": {},
   "source": [
    "Use `result.graph` with NetworkX, or open the Parquet files in your notebook to explore the generated data."
   ]
  }
 ],
 "metadata": {
  "kernelspec": {
   "display_name": "Python 3",
   "language": "python",
   "name": "python3"
  },
  "language_info": {
   "name": "python",
   "version": "3.11"
  }
 },
 "nbformat": 4,
 "nbformat_minor": 5
}
