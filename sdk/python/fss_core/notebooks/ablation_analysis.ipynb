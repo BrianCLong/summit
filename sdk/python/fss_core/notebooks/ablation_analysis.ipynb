{
 "cells": [
  {
   "cell_type": "markdown",
   "metadata": {},
   "source": [
    "# FSS Kernel Ablation\n",
    "Run the official evaluation helpers inside a notebook for interactive review."
   ]
  },
  {
   "cell_type": "code",
   "execution_count": null,
   "metadata": {},
   "outputs": [],
   "source": [
    "from pathlib import Path\n",
    "from datetime import datetime, timezone\n",
    "\n",
    "import json\n",
    "\n",
    "from fss_core import DecayKernel, FreshnessConfig, evaluate_dataset\n",
    "from fss_core.evaluation import load_dataset\n",
    "\n",
    "DATASET = Path('../fss_core/testdata/time_sensitive_qa.json')\n",
    "AS_OF = datetime(2025, 2, 1, tzinfo=timezone.utc)\n",
    "dataset = load_dataset(DATASET)"
   ]
  },
  {
   "cell_type": "code",
   "execution_count": null,
   "metadata": {},
   "outputs": [],
   "source": [
    "results = []\n",
    "for kernel in (DecayKernel.EXPONENTIAL, DecayKernel.HYPERBOLIC):\n",
    "    config = FreshnessConfig(\n",
    "        default_half_life_hours=72,\n",
    "        source_half_lives={'official': 36, 'newswire': 18, 'situation-report': 12},\n",
    "        kernel=kernel,\n",
    "    )\n",
    "    result = evaluate_dataset(dataset, config, as_of=AS_OF, freshness_weight=1.0)\n",
    "    results.append(result.__dict__)\n",
    "\n",
    "json.dumps(results, indent=2)"
   ]
  }
 ],
 "metadata": {
  "kernelspec": {
   "display_name": "Python 3",
   "language": "python",
   "name": "python3"
  },
  "language_info": {
   "name": "python",
   "version": "3.11"
  }
 },
 "nbformat": 4,
 "nbformat_minor": 5
}
